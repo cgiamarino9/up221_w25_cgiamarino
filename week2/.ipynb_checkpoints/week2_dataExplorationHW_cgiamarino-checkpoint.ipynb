{
 "cells": [
  {
   "cell_type": "markdown",
   "id": "bfc24f81-cda0-4d9f-9ba9-fa66a267a210",
   "metadata": {},
   "source": [
    "# Week 2 Data exploration\n",
    "## Chris Giamarino\n",
    "The purpose of this assignment is to work with [gis data](https://geohub.lacity.org/)."
   ]
  },
  {
   "cell_type": "code",
   "execution_count": 2,
   "id": "a3733d54-5494-4e87-b212-4fbcfcb6f97c",
   "metadata": {},
   "outputs": [
    {
     "name": "stdout",
     "output_type": "stream",
     "text": [
      "upload to GitHub\n"
     ]
    }
   ],
   "source": [
    "# printing demonstration to upload notebook to GitHub\n",
    "print('upload to GitHub')"
   ]
  },
  {
   "cell_type": "code",
   "execution_count": 3,
   "id": "d18cdf96-9d81-4f1e-9a01-617de172ac50",
   "metadata": {},
   "outputs": [
    {
     "name": "stdout",
     "output_type": "stream",
     "text": [
      "use terminal to push to github\n"
     ]
    }
   ],
   "source": [
    "print('use terminal to push to github')"
   ]
  }
 ],
 "metadata": {
  "kernelspec": {
   "display_name": "Python 3 (ipykernel)",
   "language": "python",
   "name": "python3"
  },
  "language_info": {
   "codemirror_mode": {
    "name": "ipython",
    "version": 3
   },
   "file_extension": ".py",
   "mimetype": "text/x-python",
   "name": "python",
   "nbconvert_exporter": "python",
   "pygments_lexer": "ipython3",
   "version": "3.11.9"
  }
 },
 "nbformat": 4,
 "nbformat_minor": 5
}
