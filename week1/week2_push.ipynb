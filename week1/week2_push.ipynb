{
 "cells": [
  {
   "cell_type": "markdown",
   "id": "993a5e29-e10b-46fd-9191-0bd34137b30d",
   "metadata": {},
   "source": [
    "# Troubleshooting Git adds, commits, and pushes"
   ]
  },
  {
   "cell_type": "code",
   "execution_count": 1,
   "id": "708c5c25-7512-4d09-a7da-1fb2bbc927ee",
   "metadata": {},
   "outputs": [
    {
     "name": "stdout",
     "output_type": "stream",
     "text": [
      "this push worked before week2\n"
     ]
    }
   ],
   "source": [
    "print(\"this push worked before week2\")"
   ]
  },
  {
   "cell_type": "code",
   "execution_count": null,
   "id": "414427fb-78be-443f-b5bb-6d21fd3b2869",
   "metadata": {},
   "outputs": [],
   "source": []
  }
 ],
 "metadata": {
  "kernelspec": {
   "display_name": "Python 3 (ipykernel)",
   "language": "python",
   "name": "python3"
  },
  "language_info": {
   "codemirror_mode": {
    "name": "ipython",
    "version": 3
   },
   "file_extension": ".py",
   "mimetype": "text/x-python",
   "name": "python",
   "nbconvert_exporter": "python",
   "pygments_lexer": "ipython3",
   "version": "3.11.9"
  }
 },
 "nbformat": 4,
 "nbformat_minor": 5
}
